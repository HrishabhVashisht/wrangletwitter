{
 "cells": [
  {
   "cell_type": "code",
   "execution_count": 25,
   "metadata": {},
   "outputs": [],
   "source": [
    "import pandas as pd\n",
    "import numpy as np\n",
    "import tweepy\n",
    "from tweepy import OAuthHandler\n",
    "import requests\n",
    "import json\n",
    "import time"
   ]
  },
  {
   "cell_type": "code",
   "execution_count": 26,
   "metadata": {},
   "outputs": [],
   "source": [
    "df=pd.read_csv('twitter-archive-enhanced.csv')"
   ]
  },
  {
   "cell_type": "code",
   "execution_count": 27,
   "metadata": {},
   "outputs": [],
   "source": [
    "URL='https://d17h27t6h515a5.cloudfront.net/topher/2017/August/599fd2ad_image-predictions/image-predictions.tsv'\n",
    "r=requests.get(URL)\n",
    "with open('image_predictions.tsv','wb') as file:\n",
    "    file.write(r.content)\n",
    "img=pd.read_csv('image_predictions.tsv',sep='\\t')    "
   ]
  },
  {
   "cell_type": "code",
   "execution_count": 28,
   "metadata": {},
   "outputs": [],
   "source": [
    "consumer_key=''\n",
    "consumer_secret=''\n",
    "access_token=''\n",
    "access_secret=''\n",
    "auth=tweepy.OAuthHandler(consumer_key,consumer_secret)\n",
    "auth.set_access_token(access_token,access_secret)\n",
    "api=tweepy.API(auth,wait_on_rate_limit=True,wait_on_rate_limit_notify=True)    "
   ]
  },
  {
   "cell_type": "code",
   "execution_count": 29,
   "metadata": {},
   "outputs": [
    {
     "ename": "TweepError",
     "evalue": "[{'code': 215, 'message': 'Bad Authentication data.'}]",
     "output_type": "error",
     "traceback": [
      "\u001b[1;31m---------------------------------------------------------------------------\u001b[0m",
      "\u001b[1;31mTweepError\u001b[0m                                Traceback (most recent call last)",
      "\u001b[1;32m<ipython-input-29-35609736fbae>\u001b[0m in \u001b[0;36m<module>\u001b[1;34m()\u001b[0m\n\u001b[1;32m----> 1\u001b[1;33m \u001b[0mtweet\u001b[0m\u001b[1;33m=\u001b[0m\u001b[0mapi\u001b[0m\u001b[1;33m.\u001b[0m\u001b[0mget_status\u001b[0m\u001b[1;33m(\u001b[0m\u001b[1;36m892420643555336193\u001b[0m\u001b[1;33m,\u001b[0m\u001b[0mtweet_mode\u001b[0m\u001b[1;33m=\u001b[0m\u001b[1;34m'extended'\u001b[0m\u001b[1;33m)\u001b[0m\u001b[1;33m\u001b[0m\u001b[0m\n\u001b[0m",
      "\u001b[1;32m~\\Anaconda3\\lib\\site-packages\\tweepy\\binder.py\u001b[0m in \u001b[0;36m_call\u001b[1;34m(*args, **kwargs)\u001b[0m\n\u001b[0;32m    248\u001b[0m             \u001b[1;32mreturn\u001b[0m \u001b[0mmethod\u001b[0m\u001b[1;33m\u001b[0m\u001b[0m\n\u001b[0;32m    249\u001b[0m         \u001b[1;32melse\u001b[0m\u001b[1;33m:\u001b[0m\u001b[1;33m\u001b[0m\u001b[0m\n\u001b[1;32m--> 250\u001b[1;33m             \u001b[1;32mreturn\u001b[0m \u001b[0mmethod\u001b[0m\u001b[1;33m.\u001b[0m\u001b[0mexecute\u001b[0m\u001b[1;33m(\u001b[0m\u001b[1;33m)\u001b[0m\u001b[1;33m\u001b[0m\u001b[0m\n\u001b[0m\u001b[0;32m    251\u001b[0m \u001b[1;33m\u001b[0m\u001b[0m\n\u001b[0;32m    252\u001b[0m     \u001b[1;31m# Set pagination mode\u001b[0m\u001b[1;33m\u001b[0m\u001b[1;33m\u001b[0m\u001b[0m\n",
      "\u001b[1;32m~\\Anaconda3\\lib\\site-packages\\tweepy\\binder.py\u001b[0m in \u001b[0;36mexecute\u001b[1;34m(self)\u001b[0m\n\u001b[0;32m    232\u001b[0m                     \u001b[1;32mraise\u001b[0m \u001b[0mRateLimitError\u001b[0m\u001b[1;33m(\u001b[0m\u001b[0merror_msg\u001b[0m\u001b[1;33m,\u001b[0m \u001b[0mresp\u001b[0m\u001b[1;33m)\u001b[0m\u001b[1;33m\u001b[0m\u001b[0m\n\u001b[0;32m    233\u001b[0m                 \u001b[1;32melse\u001b[0m\u001b[1;33m:\u001b[0m\u001b[1;33m\u001b[0m\u001b[0m\n\u001b[1;32m--> 234\u001b[1;33m                     \u001b[1;32mraise\u001b[0m \u001b[0mTweepError\u001b[0m\u001b[1;33m(\u001b[0m\u001b[0merror_msg\u001b[0m\u001b[1;33m,\u001b[0m \u001b[0mresp\u001b[0m\u001b[1;33m,\u001b[0m \u001b[0mapi_code\u001b[0m\u001b[1;33m=\u001b[0m\u001b[0mapi_error_code\u001b[0m\u001b[1;33m)\u001b[0m\u001b[1;33m\u001b[0m\u001b[0m\n\u001b[0m\u001b[0;32m    235\u001b[0m \u001b[1;33m\u001b[0m\u001b[0m\n\u001b[0;32m    236\u001b[0m             \u001b[1;31m# Parse the response payload\u001b[0m\u001b[1;33m\u001b[0m\u001b[1;33m\u001b[0m\u001b[0m\n",
      "\u001b[1;31mTweepError\u001b[0m: [{'code': 215, 'message': 'Bad Authentication data.'}]"
     ]
    }
   ],
   "source": [
    "tweet=api.get_status(892420643555336193,tweet_mode='extended')"
   ]
  },
  {
   "cell_type": "code",
   "execution_count": null,
   "metadata": {},
   "outputs": [
    {
     "name": "stdout",
     "output_type": "stream",
     "text": [
      "Invalid tweet\n",
      "Invalid tweet\n",
      "Invalid tweet\n",
      "Invalid tweet\n",
      "Invalid tweet\n",
      "Invalid tweet\n",
      "Invalid tweet\n",
      "Invalid tweet\n",
      "Invalid tweet\n",
      "Invalid tweet\n",
      "Invalid tweet\n",
      "Invalid tweet\n",
      "Invalid tweet\n",
      "Invalid tweet\n",
      "Invalid tweet\n",
      "Invalid tweet\n",
      "Invalid tweet\n",
      "Invalid tweet\n",
      "Invalid tweet\n",
      "Invalid tweet\n",
      "Invalid tweet\n",
      "Invalid tweet\n",
      "Invalid tweet\n",
      "Invalid tweet\n",
      "Invalid tweet\n",
      "Invalid tweet\n",
      "Invalid tweet\n",
      "Invalid tweet\n",
      "Invalid tweet\n",
      "Invalid tweet\n",
      "Invalid tweet\n",
      "Invalid tweet\n",
      "Invalid tweet\n",
      "Invalid tweet\n",
      "Invalid tweet\n",
      "Invalid tweet\n",
      "Invalid tweet\n",
      "Invalid tweet\n",
      "Invalid tweet\n",
      "Invalid tweet\n",
      "Invalid tweet\n",
      "Invalid tweet\n",
      "Invalid tweet\n",
      "Invalid tweet\n",
      "Invalid tweet\n",
      "Invalid tweet\n",
      "Invalid tweet\n",
      "Invalid tweet\n",
      "Invalid tweet\n",
      "Invalid tweet\n",
      "Invalid tweet\n",
      "Invalid tweet\n",
      "Invalid tweet\n",
      "Invalid tweet\n",
      "Invalid tweet\n",
      "Invalid tweet\n",
      "Invalid tweet\n",
      "Invalid tweet\n",
      "Invalid tweet\n",
      "Invalid tweet\n",
      "Invalid tweet\n",
      "Invalid tweet\n",
      "Invalid tweet\n",
      "Invalid tweet\n",
      "Invalid tweet\n",
      "Invalid tweet\n",
      "Invalid tweet\n",
      "Invalid tweet\n",
      "Invalid tweet\n",
      "Invalid tweet\n",
      "Invalid tweet\n",
      "Invalid tweet\n",
      "Invalid tweet\n",
      "Invalid tweet\n",
      "Invalid tweet\n",
      "Invalid tweet\n",
      "Invalid tweet\n",
      "Invalid tweet\n",
      "Invalid tweet\n",
      "Invalid tweet\n",
      "Invalid tweet\n",
      "Invalid tweet\n",
      "Invalid tweet\n",
      "Invalid tweet\n",
      "Invalid tweet\n",
      "Invalid tweet\n",
      "Invalid tweet\n",
      "Invalid tweet\n",
      "Invalid tweet\n",
      "Invalid tweet\n",
      "Invalid tweet\n",
      "Invalid tweet\n",
      "Invalid tweet\n",
      "Invalid tweet\n"
     ]
    }
   ],
   "source": [
    "with open('tweet_json.txt') as fil:\n",
    "    for tweet_id in df['tweet_id']:\n",
    "        try:\n",
    "            tweet=api.get_status(tweet_id,tweet_mode='extended')\n",
    "            json.dump(tweet._json,fil)\n",
    "            fil.write('\\n')\n",
    "        except:\n",
    "            print(\"Invalid tweet\")\n",
    "    \n",
    "        "
   ]
  },
  {
   "cell_type": "code",
   "execution_count": 32,
   "metadata": {},
   "outputs": [],
   "source": [
    "tweet_data=[]\n",
    "tweet_t=open('tweet_json.txt','r')\n",
    "for i in tweet_t:\n",
    "    \n",
    "    try:\n",
    "        tweet=json.loads(i)\n",
    "        tweet_data.append(tweet)\n",
    "    except:\n",
    "        print('invalid run')\n",
    "tweet_t.close()        \n",
    "        \n"
   ]
  },
  {
   "cell_type": "code",
   "execution_count": null,
   "metadata": {},
   "outputs": [],
   "source": []
  }
 ],
 "metadata": {
  "kernelspec": {
   "display_name": "Python 3",
   "language": "python",
   "name": "python3"
  },
  "language_info": {
   "codemirror_mode": {
    "name": "ipython",
    "version": 3
   },
   "file_extension": ".py",
   "mimetype": "text/x-python",
   "name": "python",
   "nbconvert_exporter": "python",
   "pygments_lexer": "ipython3",
   "version": "3.6.5"
  }
 },
 "nbformat": 4,
 "nbformat_minor": 2
}
